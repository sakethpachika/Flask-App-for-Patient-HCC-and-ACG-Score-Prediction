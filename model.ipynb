{
 "cells": [
  {
   "cell_type": "code",
   "execution_count": 22,
   "id": "breeding-canal",
   "metadata": {},
   "outputs": [],
   "source": [
    "import pandas as pd\n",
    "import numpy as np\n",
    "import matplotlib.pyplot as plt\n",
    "import seaborn as sns\n",
    "from sklearn.utils import resample\n",
    "from imblearn.over_sampling import SMOTENC,RandomOverSampler,KMeansSMOTE\n",
    "from sklearn.impute import KNNImputer\n",
    "from sklearn.metrics import mean_squared_error\n",
    "from sklearn.model_selection import train_test_split, cross_val_score\n",
    "from sklearn.linear_model import LinearRegression, Ridge, Lasso\n",
    "from statistics import mean\n",
    "from sklearn.metrics import confusion_matrix, accuracy_score\n",
    "from sklearn.metrics import plot_confusion_matrix\n",
    "from sklearn.preprocessing import LabelEncoder\n",
    "from sklearn.neighbors import KNeighborsClassifier\n",
    "from sklearn.svm import SVC\n",
    "from lightgbm import LGBMRegressor\n",
    "import math\n",
    "sns.set()"
   ]
  },
  {
   "cell_type": "code",
   "execution_count": 12,
   "id": "horizontal-reverse",
   "metadata": {},
   "outputs": [],
   "source": [
    "data = pd.read_csv(\"ML_DATA_CLEANED.csv\")"
   ]
  },
  {
   "cell_type": "code",
   "execution_count": 10,
   "id": "unique-cartoon",
   "metadata": {},
   "outputs": [
    {
     "data": {
      "text/plain": [
       "3.1327446098924328"
      ]
     },
     "execution_count": 10,
     "metadata": {},
     "output_type": "execute_result"
    }
   ],
   "source": []
  },
  {
   "cell_type": "code",
   "execution_count": null,
   "id": "later-wilderness",
   "metadata": {},
   "outputs": [],
   "source": [
    "data['Gender'].isnull().values.any()"
   ]
  },
  {
   "cell_type": "code",
   "execution_count": 13,
   "id": "buried-receiver",
   "metadata": {},
   "outputs": [],
   "source": [
    "data.loc[data['Gender']==3,['Gender']] = np.nan"
   ]
  },
  {
   "cell_type": "code",
   "execution_count": null,
   "id": "generous-attempt",
   "metadata": {},
   "outputs": [],
   "source": [
    "import seaborn as sns"
   ]
  },
  {
   "cell_type": "code",
   "execution_count": null,
   "id": "first-adrian",
   "metadata": {},
   "outputs": [],
   "source": [
    "sns.pairplot(new_data, x_vars=['Age','Gender'], y_vars='hcc_based_risk', size=7, aspect=0.7)"
   ]
  },
  {
   "cell_type": "code",
   "execution_count": null,
   "id": "boring-dating",
   "metadata": {},
   "outputs": [],
   "source": [
    "sns.pairplot(new_data, x_vars=['Age','Gender'], y_vars='acg_based_risk', size=7, aspect=0.7)"
   ]
  },
  {
   "cell_type": "code",
   "execution_count": null,
   "id": "material-murder",
   "metadata": {},
   "outputs": [],
   "source": [
    "data['hcc_based_risk']"
   ]
  },
  {
   "cell_type": "code",
   "execution_count": 14,
   "id": "worldwide-argument",
   "metadata": {},
   "outputs": [],
   "source": [
    "imputer=KNNImputer(n_neighbors=3, weights='uniform',missing_values=np.nan)\n",
    "new_array=imputer.fit_transform(data) # impute the missing values\n",
    "    # convert the nd-array returned in the step above to a Dataframe\n",
    "new_data=pd.DataFrame(data=new_array, columns=data.columns)\n",
    "new_data.loc[new_data['Gender']> 0.5,['Gender']] = 1\n",
    "new_data.loc[new_data['Gender']< 0.5,['Gender']] = 0"
   ]
  },
  {
   "cell_type": "code",
   "execution_count": 5,
   "id": "talented-diary",
   "metadata": {},
   "outputs": [
    {
     "ename": "NameError",
     "evalue": "name 'plot' is not defined",
     "output_type": "error",
     "traceback": [
      "\u001b[0;31m---------------------------------------------------------------------------\u001b[0m",
      "\u001b[0;31mNameError\u001b[0m                                 Traceback (most recent call last)",
      "\u001b[0;32m<ipython-input-5-2245ffefe2e6>\u001b[0m in \u001b[0;36m<module>\u001b[0;34m\u001b[0m\n\u001b[1;32m      1\u001b[0m \u001b[0mcolumns\u001b[0m \u001b[0;34m=\u001b[0m \u001b[0;34m[\u001b[0m\u001b[0;34m'Age'\u001b[0m\u001b[0;34m,\u001b[0m\u001b[0;34m'Gender'\u001b[0m\u001b[0;34m,\u001b[0m\u001b[0;34m'acg_based_risk'\u001b[0m\u001b[0;34m,\u001b[0m\u001b[0;34m'hcc_based_risk'\u001b[0m\u001b[0;34m]\u001b[0m\u001b[0;34m\u001b[0m\u001b[0;34m\u001b[0m\u001b[0m\n\u001b[1;32m      2\u001b[0m \u001b[0;34m\u001b[0m\u001b[0m\n\u001b[0;32m----> 3\u001b[0;31m \u001b[0mplot\u001b[0m\u001b[0;34m.\u001b[0m\u001b[0mfigure\u001b[0m\u001b[0;34m(\u001b[0m\u001b[0mfigsize\u001b[0m\u001b[0;34m=\u001b[0m\u001b[0;34m(\u001b[0m\u001b[0;36m10\u001b[0m\u001b[0;34m,\u001b[0m\u001b[0;36m15\u001b[0m\u001b[0;34m)\u001b[0m\u001b[0;34m,\u001b[0m\u001b[0mfacecolor\u001b[0m\u001b[0;34m=\u001b[0m\u001b[0;34m'white'\u001b[0m\u001b[0;34m)\u001b[0m\u001b[0;34m\u001b[0m\u001b[0;34m\u001b[0m\u001b[0m\n\u001b[0m\u001b[1;32m      4\u001b[0m \u001b[0mplotnumber\u001b[0m \u001b[0;34m=\u001b[0m \u001b[0;36m1\u001b[0m\u001b[0;34m\u001b[0m\u001b[0;34m\u001b[0m\u001b[0m\n\u001b[1;32m      5\u001b[0m \u001b[0;34m\u001b[0m\u001b[0m\n",
      "\u001b[0;31mNameError\u001b[0m: name 'plot' is not defined"
     ]
    }
   ],
   "source": [
    "columns = ['Age','Gender','acg_based_risk','hcc_based_risk']\n",
    "\n",
    "plot.figure(figsize=(10,15),facecolor='white')\n",
    "plotnumber = 1\n",
    "\n",
    "for column in columns:\n",
    "    #new_data[column]+=1\n",
    "    ax = plot.subplot(3,2,plotnumber)\n",
    "    sns.distplot((new_data[column]))\n",
    "    plot.xlabel(column,fontsize=10)\n",
    "    plotnumber+=1\n",
    "plot.show()"
   ]
  },
  {
   "cell_type": "code",
   "execution_count": 15,
   "id": "interpreted-prior",
   "metadata": {},
   "outputs": [
    {
     "data": {
      "text/plain": [
       "array([1., 0.])"
      ]
     },
     "execution_count": 15,
     "metadata": {},
     "output_type": "execute_result"
    }
   ],
   "source": [
    "new_data['Gender'].unique()"
   ]
  },
  {
   "cell_type": "code",
   "execution_count": 16,
   "id": "adopted-mention",
   "metadata": {},
   "outputs": [],
   "source": [
    "\n",
    "\n",
    "X = new_data.iloc[:, 1:113].values\n",
    "y = new_data.iloc[:, -1].values"
   ]
  },
  {
   "cell_type": "code",
   "execution_count": 17,
   "id": "guilty-manchester",
   "metadata": {},
   "outputs": [],
   "source": [
    "from sklearn.model_selection import train_test_split\n",
    "X_train, X_test, y_train, y_test = train_test_split(X, y, test_size = 0.2, random_state = 0)"
   ]
  },
  {
   "cell_type": "code",
   "execution_count": null,
   "id": "rough-bicycle",
   "metadata": {},
   "outputs": [],
   "source": [
    "from sklearn.preprocessing import StandardScaler\n",
    "sc = StandardScaler()\n",
    "X_train = sc.fit_transform(X_train)\n",
    "X_test = sc.transform(X_test)"
   ]
  },
  {
   "cell_type": "code",
   "execution_count": 18,
   "id": "sporting-nurse",
   "metadata": {},
   "outputs": [
    {
     "data": {
      "text/plain": [
       "LinearRegression()"
      ]
     },
     "execution_count": 18,
     "metadata": {},
     "output_type": "execute_result"
    }
   ],
   "source": [
    "from sklearn.linear_model import LinearRegression\n",
    "regressor = LinearRegression()\n",
    "regressor.fit(X_train, y_train)"
   ]
  },
  {
   "cell_type": "code",
   "execution_count": 19,
   "id": "elegant-newark",
   "metadata": {},
   "outputs": [
    {
     "name": "stdout",
     "output_type": "stream",
     "text": [
      "0.7100650893851357 0.7022309012092938\n"
     ]
    }
   ],
   "source": [
    "yhat = regressor.predict(X_test)\n",
    "SS_Residual = sum((y_test-yhat)**2)       \n",
    "SS_Total = sum((y_test-np.mean(y_test))**2)     \n",
    "r_squared = 1 - (float(SS_Residual))/SS_Total\n",
    "adjusted_r_squared = 1 - (1-r_squared)*(len(y_test)-1)/(len(y_test)-X_test.shape[1]-1)\n",
    "print (r_squared, adjusted_r_squared)"
   ]
  },
  {
   "cell_type": "code",
   "execution_count": 23,
   "id": "looking-supervisor",
   "metadata": {},
   "outputs": [
    {
     "name": "stdout",
     "output_type": "stream",
     "text": [
      "0.6034873495845703\n",
      "0.7768444822386076\n"
     ]
    }
   ],
   "source": [
    "rms = mean_squared_error(y_test, yhat, squared=False)\n",
    "print(rms)\n",
    "\n",
    "print(math.sqrt(rms))"
   ]
  },
  {
   "cell_type": "code",
   "execution_count": null,
   "id": "vocal-damages",
   "metadata": {},
   "outputs": [],
   "source": []
  },
  {
   "cell_type": "code",
   "execution_count": null,
   "id": "intermediate-stream",
   "metadata": {},
   "outputs": [],
   "source": [
    "import shap"
   ]
  },
  {
   "cell_type": "code",
   "execution_count": null,
   "id": "handy-hughes",
   "metadata": {},
   "outputs": [],
   "source": [
    "X,y = shap.datasets.boston()"
   ]
  },
  {
   "cell_type": "code",
   "execution_count": null,
   "id": "logical-campus",
   "metadata": {},
   "outputs": [],
   "source": [
    "explainer = shap.Explainer(regressor.predict, X100)\n",
    "shap_values = explainer(X)\n",
    "\n",
    "# make a standard partial dependence plot\n",
    "sample_ind = 18\n",
    "shap.partial_dependence_plot(\n",
    "    \"RM\", model.predict, X100, model_expected_value=True,\n",
    "    feature_expected_value=True, ice=False,\n",
    "    shap_values=shap_values[sample_ind:sample_ind+1,:]\n",
    ")"
   ]
  },
  {
   "cell_type": "code",
   "execution_count": null,
   "id": "norman-latter",
   "metadata": {},
   "outputs": [],
   "source": [
    "X100 = shap.utils.sample(X, 100)"
   ]
  },
  {
   "cell_type": "code",
   "execution_count": null,
   "id": "personal-separation",
   "metadata": {},
   "outputs": [],
   "source": [
    "new_data.columns[1:113]"
   ]
  },
  {
   "cell_type": "code",
   "execution_count": null,
   "id": "opened-brother",
   "metadata": {},
   "outputs": [],
   "source": [
    "model = LGBMRegressor()\n",
    "# fit the model on the whole dataset\n",
    "model.fit(X_train, y_train)"
   ]
  },
  {
   "cell_type": "code",
   "execution_count": null,
   "id": "buried-hypothesis",
   "metadata": {},
   "outputs": [],
   "source": [
    "yhat = model.predict(X_test)\n",
    "SS_Residual = sum((y_test-yhat)**2)       \n",
    "SS_Total = sum((y_test-np.mean(y_test))**2)     \n",
    "r_squared = 1 - (float(SS_Residual))/SS_Total\n",
    "adjusted_r_squared = 1 - (1-r_squared)*(len(y_test)-1)/(len(y_test)-X_test.shape[1]-1)\n",
    "print (r_squared, adjusted_r_squared)\n",
    "\n"
   ]
  },
  {
   "cell_type": "code",
   "execution_count": null,
   "id": "chief-champagne",
   "metadata": {},
   "outputs": [],
   "source": [
    "rms = mean_squared_error(y_test, yhat, squared=False)\n",
    "print(rms)"
   ]
  },
  {
   "cell_type": "code",
   "execution_count": null,
   "id": "cooked-stick",
   "metadata": {},
   "outputs": [],
   "source": [
    "feature_data = pd.DataFrame(sorted(zip(model.feature_importances_,new_data.columns[1:113])), columns=['Value','Feature'])"
   ]
  },
  {
   "cell_type": "code",
   "execution_count": null,
   "id": "planned-anderson",
   "metadata": {},
   "outputs": [],
   "source": [
    "new = feature_data.iloc[95:112,]"
   ]
  },
  {
   "cell_type": "code",
   "execution_count": null,
   "id": "economic-toddler",
   "metadata": {},
   "outputs": [],
   "source": [
    "import matplotlib.pyplot as plt\n",
    "import seaborn as sns\n",
    "import warnings\n",
    "warnings.simplefilter(action='ignore', category=FutureWarning)\n",
    "\n",
    "# sorted(zip(clf.feature_importances_, X.columns), reverse=True)\n",
    "feature_imp = new\n",
    "plt.figure(figsize=(20, 10))\n",
    "sns.barplot(x=\"Value\", y=\"Feature\", data=feature_imp.sort_values(by=\"Value\", ascending=False))\n",
    "plt.title('LightGBM Features (avg over folds)')\n",
    "plt.tight_layout()\n",
    "plt.show()\n",
    "plt.savefig('lgbm_importances-01.png')"
   ]
  },
  {
   "cell_type": "code",
   "execution_count": null,
   "id": "practical-proceeding",
   "metadata": {},
   "outputs": [],
   "source": [
    "from sklearn.ensemble import RandomForestRegressor\n",
    "regressor = RandomForestRegressor(n_estimators = 10, random_state = 0)\n",
    "regressor.fit(X, y)"
   ]
  },
  {
   "cell_type": "code",
   "execution_count": null,
   "id": "apparent-geneva",
   "metadata": {},
   "outputs": [],
   "source": [
    "from sklearn.preprocessing import StandardScaler\n",
    "sc = StandardScaler()\n",
    "X_train = sc.fit_transform(X_train)\n",
    "X_test = sc.transform(X_test)"
   ]
  },
  {
   "cell_type": "code",
   "execution_count": null,
   "id": "absent-young",
   "metadata": {},
   "outputs": [],
   "source": [
    "xgb1 = xgboost.XGBRegressor()\n",
    "parameters = {'nthread':[4], #when use hyperthread, xgboost may become slower\n",
    "              'objective':['reg:linear'],\n",
    "              'learning_rate': [.03, 0.05, .07], #so called `eta` value\n",
    "              'max_depth': [5, 6, 7],\n",
    "              'min_child_weight': [4],\n",
    "              'silent': [1],\n",
    "              'subsample': [0.7],\n",
    "              'colsample_bytree': [0.7],\n",
    "              'n_estimators': [500]}\n",
    "\n",
    "xgb_grid = GridSearchCV(xgb1,\n",
    "                        parameters,\n",
    "                        cv = 2,\n",
    "                        n_jobs = 5,\n",
    "                        verbose=True)\n",
    "\n",
    "xgb_grid.fit(X_train,\n",
    "         y_train)\n",
    "\n",
    "print(xgb_grid.best_score_)\n",
    "print(xgb_grid.best_params_)"
   ]
  },
  {
   "cell_type": "code",
   "execution_count": null,
   "id": "bibliographic-intersection",
   "metadata": {},
   "outputs": [],
   "source": [
    "# train XGBoost model\n",
    "import xgboost\n",
    "params = {'colsample_bytree': 0.7, 'learning_rate': 0.05, 'max_depth': 5, 'min_child_weight': 4, 'n_estimators': 500, 'nthread': 4, 'objective': 'reg:linear', 'silent': 1, 'subsample': 0.7}\n",
    "model_xgb = xgboost.XGBRegressor(**params).fit(X_train, y_train)\n"
   ]
  },
  {
   "cell_type": "code",
   "execution_count": null,
   "id": "violent-satellite",
   "metadata": {},
   "outputs": [],
   "source": [
    "yhat = model_xgb.predict(X_test)\n",
    "SS_Residual = sum((y_test-yhat)**2)       \n",
    "SS_Total = sum((y_test-np.mean(y_test))**2)     \n",
    "r_squared = 1 - (float(SS_Residual))/SS_Total\n",
    "adjusted_r_squared = 1 - (1-r_squared)*(len(y_test)-1)/(len(y_test)-X_test.shape[1]-1)\n",
    "print (r_squared, adjusted_r_squared)"
   ]
  },
  {
   "cell_type": "code",
   "execution_count": null,
   "id": "distant-coupon",
   "metadata": {},
   "outputs": [],
   "source": [
    "rms = mean_squared_error(y_test, yhat, squared=False)\n",
    "print(rms)"
   ]
  },
  {
   "cell_type": "code",
   "execution_count": null,
   "id": "practical-sampling",
   "metadata": {},
   "outputs": [],
   "source": [
    "feature_data = pd.DataFrame(sorted(zip(model_xgb.feature_importances_,new_data.columns[1:113])), columns=['Value','Feature'])"
   ]
  },
  {
   "cell_type": "code",
   "execution_count": null,
   "id": "measured-morris",
   "metadata": {},
   "outputs": [],
   "source": [
    "new = feature_data.iloc[95:112,]"
   ]
  },
  {
   "cell_type": "code",
   "execution_count": null,
   "id": "liked-plasma",
   "metadata": {},
   "outputs": [],
   "source": [
    "import pickle\n",
    "pickle.dump(model, open('model.pkl','wb'))"
   ]
  },
  {
   "cell_type": "code",
   "execution_count": null,
   "id": "animated-gauge",
   "metadata": {},
   "outputs": [],
   "source": [
    "import matplotlib.pyplot as plt\n",
    "import seaborn as sns\n",
    "import warnings\n",
    "warnings.simplefilter(action='ignore', category=FutureWarning)\n",
    "\n",
    "# sorted(zip(clf.feature_importances_, X.columns), reverse=True)\n",
    "feature_imp = new\n",
    "plt.figure(figsize=(20, 10))\n",
    "sns.barplot(x=\"Value\", y=\"Feature\", data=feature_imp.sort_values(by=\"Value\", ascending=False))\n",
    "plt.title('LightGBM Features (avg over folds)')\n",
    "plt.tight_layout()\n",
    "plt.show()\n",
    "plt.savefig('lgbm_importances-01.png')"
   ]
  },
  {
   "cell_type": "code",
   "execution_count": null,
   "id": "nonprofit-selection",
   "metadata": {},
   "outputs": [],
   "source": [
    "from sklearn.decomposition import PCA\n",
    "pca = PCA(n_components = 10)\n",
    "X = new_data.iloc[:, 1:113].values"
   ]
  },
  {
   "cell_type": "code",
   "execution_count": null,
   "id": "drawn-reasoning",
   "metadata": {},
   "outputs": [],
   "source": [
    "pca = PCA().fit(X)\n",
    "plt.plot(np.cumsum(pca.explained_variance_ratio_))\n",
    "plt.xlabel('number of components')\n",
    "plt.ylabel('cumulative explained variance');"
   ]
  },
  {
   "cell_type": "code",
   "execution_count": null,
   "id": "indian-bankruptcy",
   "metadata": {},
   "outputs": [],
   "source": []
  },
  {
   "cell_type": "code",
   "execution_count": null,
   "id": "rising-generation",
   "metadata": {},
   "outputs": [],
   "source": [
    "data"
   ]
  },
  {
   "cell_type": "code",
   "execution_count": null,
   "id": "improving-niagara",
   "metadata": {},
   "outputs": [],
   "source": [
    "from sklearn import datasets\n",
    "from sklearn.model_selection import train_test_split\n",
    "from sklearn.model_selection import GridSearchCV\n",
    "from sklearn.ensemble import GradientBoostingRegressor"
   ]
  },
  {
   "cell_type": "code",
   "execution_count": null,
   "id": "tutorial-garden",
   "metadata": {},
   "outputs": [],
   "source": [
    "  GBR = GradientBoostingRegressor()"
   ]
  },
  {
   "cell_type": "code",
   "execution_count": null,
   "id": "acquired-bradley",
   "metadata": {},
   "outputs": [],
   "source": [
    " parameters = {'learning_rate': [0.01,0.02,0.03,0.04],\n",
    "                  'subsample'    : [0.9, 0.5, 0.2, 0.1],\n",
    "                  'n_estimators' : [100,500,1000, 1500],\n",
    "                  'max_depth'    : [4,6,8,10]\n",
    "                 }"
   ]
  },
  {
   "cell_type": "code",
   "execution_count": null,
   "id": "cross-enlargement",
   "metadata": {},
   "outputs": [],
   "source": [
    " grid_GBR = GridSearchCV(estimator=GBR, param_grid = parameters, cv = 2, n_jobs=-1)\n",
    " grid_GBR.fit(X_train, y_train)"
   ]
  },
  {
   "cell_type": "code",
   "execution_count": null,
   "id": "rapid-language",
   "metadata": {},
   "outputs": [],
   "source": [
    "print(\" Results from Grid Search \" )\n",
    "print(\"\\n The best estimator across ALL searched params:\\n\",grid_GBR.best_estimator_)\n",
    "print(\"\\n The best score across ALL searched params:\\n\",grid_GBR.best_score_)\n",
    "print(\"\\n The best parameters across ALL searched params:\\n\",grid_GBR.best_params_)"
   ]
  },
  {
   "cell_type": "code",
   "execution_count": null,
   "id": "frozen-first",
   "metadata": {},
   "outputs": [],
   "source": [
    "reg = GradientBoostingRegressor(learning_rate=0.01,max_depth=4,n_estimators=1500,subsample = 0.2)"
   ]
  },
  {
   "cell_type": "code",
   "execution_count": null,
   "id": "pleasant-bride",
   "metadata": {},
   "outputs": [],
   "source": [
    "reg.fit(X_train,y_train)"
   ]
  },
  {
   "cell_type": "code",
   "execution_count": null,
   "id": "laden-niagara",
   "metadata": {},
   "outputs": [],
   "source": [
    "yhat = reg.predict(X_test)\n",
    "SS_Residual = sum((y_test-yhat)**2)       \n",
    "SS_Total = sum((y_test-np.mean(y_test))**2)     \n",
    "r_squared = 1 - (float(SS_Residual))/SS_Total\n",
    "adjusted_r_squared = 1 - (1-r_squared)*(len(y_test)-1)/(len(y_test)-X_test.shape[1]-1)\n",
    "print (r_squared, adjusted_r_squared)"
   ]
  },
  {
   "cell_type": "code",
   "execution_count": null,
   "id": "final-finder",
   "metadata": {},
   "outputs": [],
   "source": [
    "rms = mean_squared_error(y_test, yhat, squared=False)\n",
    "print(rms)"
   ]
  },
  {
   "cell_type": "code",
   "execution_count": null,
   "id": "framed-permit",
   "metadata": {},
   "outputs": [],
   "source": [
    "# List to maintain the different cross-validation scores\n",
    "cross_val_scores_ridge = []\n",
    " \n",
    "# List to maintain the different values of alpha\n",
    "alpha = []\n",
    " \n",
    "# Loop to compute the different values of cross-validation scores\n",
    "for i in range(1, 9):\n",
    "    ridgeModel = Ridge(alpha = i * 0.25)\n",
    "    ridgeModel.fit(X_train, y_train)\n",
    "    scores = cross_val_score(ridgeModel, X, y, cv = 10)\n",
    "    avg_cross_val_score = mean(scores)*100\n",
    "    cross_val_scores_ridge.append(avg_cross_val_score)\n",
    "    alpha.append(i * 0.25)\n",
    " \n",
    "# Loop to print the different values of cross-validation scores\n",
    "for i in range(0, len(alpha)):\n",
    "    print(str(alpha[i])+' : '+str(cross_val_scores_ridge[i]))"
   ]
  },
  {
   "cell_type": "code",
   "execution_count": null,
   "id": "liable-energy",
   "metadata": {},
   "outputs": [],
   "source": [
    "sns.countplot(data['acg_based_risk'])"
   ]
  },
  {
   "cell_type": "code",
   "execution_count": null,
   "id": "hungarian-firmware",
   "metadata": {},
   "outputs": [],
   "source": [
    "x = new_data.drop(['acg_based_risk','hcc_based_risk','patient_id'],axis=1)\n",
    "y = new_data['acg_based_risk']\n",
    "rdsmple = RandomOverSampler()\n",
    "x_sampled,y_sampled  = rdsmple.fit_resample(x,y)"
   ]
  },
  {
   "cell_type": "code",
   "execution_count": null,
   "id": "confirmed-wallpaper",
   "metadata": {},
   "outputs": [],
   "source": [
    "X = x_sampled\n",
    "y = y_sampled"
   ]
  },
  {
   "cell_type": "code",
   "execution_count": null,
   "id": "unlimited-regulation",
   "metadata": {},
   "outputs": [],
   "source": [
    "sns.countplot(y)"
   ]
  },
  {
   "cell_type": "code",
   "execution_count": null,
   "id": "floral-tribe",
   "metadata": {},
   "outputs": [],
   "source": [
    "##### Splitting Data ###################\n",
    "from sklearn.model_selection import train_test_split\n",
    "X_train, X_test, y_train, y_test = train_test_split(X, y, test_size = 0.2, random_state = 0)"
   ]
  },
  {
   "cell_type": "code",
   "execution_count": null,
   "id": "interim-lesbian",
   "metadata": {},
   "outputs": [],
   "source": [
    "##### Classification ########\n",
    "\n",
    "import lightgbm as lgb\n",
    "clf = lgb.LGBMClassifier(num_leaves=100,num_iterations=150)\n",
    "clf.fit(X_train, y_train)"
   ]
  },
  {
   "cell_type": "code",
   "execution_count": null,
   "id": "wired-gabriel",
   "metadata": {},
   "outputs": [],
   "source": [
    "params = {'boosting_type': 'gbdt', 'max_depth': -1, 'objective': 'binary', \n",
    "              'num_leaves': 64, 'learning_rate': 0.05, 'max_bin': 512, \n",
    "              'subsample_for_bin': 200, 'subsample': 1, 'subsample_freq': 1,\n",
    "              'colsample_bytree': 0.8, 'reg_alpha': 5, 'reg_lambda': 10, \n",
    "              'min_split_gain': 0.5, 'min_child_weight': 1, \n",
    "              'min_child_samples': 5, 'scale_pos_weight': 1, 'num_class': 1, \n",
    "              'metric': 'binary_error'}\n",
    "mod = lgb.LGBMClassifier(**params)"
   ]
  },
  {
   "cell_type": "code",
   "execution_count": null,
   "id": "streaming-public",
   "metadata": {},
   "outputs": [],
   "source": [
    "mod = lgb.LGBMClassifier(**params)\n",
    "\n",
    "    # To view the default model params:\n",
    "mod.get_params().keys()"
   ]
  },
  {
   "cell_type": "code",
   "execution_count": null,
   "id": "brief-soldier",
   "metadata": {},
   "outputs": [],
   "source": [
    "grid_params = {'learning_rate': [0.01], 'n_estimators': [8, 24],\n",
    "                   'num_leaves': [6, 8, 12, 16], 'boosting_type': ['gbdt'], \n",
    "                   'objective': ['binary'], 'seed': [500],\n",
    "                   'colsample_bytree': [0.65, 0.75, 0.8], \n",
    "                   'subsample': [0.7, 0.75], 'reg_alpha': [1, 2, 6],\n",
    "                   'reg_lambda': [1, 2, 6]}\n",
    "grid = GridSearchCV(mod, param_grid=grid_params, verbose=1, cv=5, n_jobs=-1)\n",
    "    # Run the grid\n",
    "grid.fit(X_train,y_train)\n",
    "\n",
    "    # Print the best parameters found\n",
    "print(grid.best_params_)\n",
    "print(grid.best_score_)"
   ]
  },
  {
   "cell_type": "code",
   "execution_count": null,
   "id": "dominican-danish",
   "metadata": {},
   "outputs": [],
   "source": [
    "y_pred = clf.predict(X_test)\n",
    "#from sklearn.metrics import confusion_matrix, accuracy_score\n",
    "cm = confusion_matrix(y_test, y_pred)\n",
    "print(cm)\n",
    "accuracy_score(y_test, y_pred)\n",
    "plot_confusion_matrix(clf, X_test, y_test) "
   ]
  },
  {
   "cell_type": "code",
   "execution_count": null,
   "id": "adult-default",
   "metadata": {},
   "outputs": [],
   "source": [
    "accuracy_score(y_test, y_pred)"
   ]
  },
  {
   "cell_type": "code",
   "execution_count": null,
   "id": "roman-merit",
   "metadata": {},
   "outputs": [],
   "source": [
    "param_grid = { 'algorithm' : ['ball_tree', 'kd_tree', 'brute'],\n",
    "               'leaf_size' : [18,20,25],\n",
    "               'n_neighbors' : [3,5,7]\n",
    "              }\n",
    "knn = KNeighborsClassifier()\n",
    "gridsearch = GridSearchCV(knn, param_grid,verbose=3)\n",
    "gridsearch.fit(X_train,y_train)\n",
    "gridsearch.best_params_\n",
    "# we will use the best pa"
   ]
  },
  {
   "cell_type": "code",
   "execution_count": null,
   "id": "swedish-reservoir",
   "metadata": {},
   "outputs": [],
   "source": [
    "knn = KNeighborsClassifier(algorithm = 'ball_tree', leaf_size =50, n_neighbors =3,metric='minkowski')\n",
    "knn.fit(X_train,y_train)\n",
    "knn.score(X_train,y_train)"
   ]
  },
  {
   "cell_type": "code",
   "execution_count": null,
   "id": "specialized-hours",
   "metadata": {},
   "outputs": [],
   "source": [
    "y_pred = knn.predict(X_test)\n",
    "#from sklearn.metrics import confusion_matrix, accuracy_score\n",
    "cm = confusion_matrix(y_test, y_pred)\n",
    "print(cm)\n",
    "accuracy_score(y_test, y_pred)\n",
    "plot_confusion_matrix(knn, X_test, y_test) "
   ]
  },
  {
   "cell_type": "code",
   "execution_count": null,
   "id": "handy-questionnaire",
   "metadata": {},
   "outputs": [],
   "source": [
    "accuracy_score(y_test, y_pred)"
   ]
  },
  {
   "cell_type": "code",
   "execution_count": null,
   "id": "incident-operations",
   "metadata": {},
   "outputs": [],
   "source": [
    "classifier = SVC(kernel = 'rbf', random_state = 0,C=60)\n",
    "classifier.fit(X_train, y_train)\n",
    "y_pred = classifier.predict(X_test)"
   ]
  },
  {
   "cell_type": "code",
   "execution_count": null,
   "id": "weighted-uganda",
   "metadata": {},
   "outputs": [],
   "source": [
    "y_pred = classifier.predict(X_test)\n",
    "from sklearn.metrics import confusion_matrix, accuracy_score\n",
    "cm = confusion_matrix(y_test, y_pred)\n",
    "print(cm)\n",
    "accuracy_score(y_test, y_pred)"
   ]
  },
  {
   "cell_type": "code",
   "execution_count": null,
   "id": "sensitive-observer",
   "metadata": {},
   "outputs": [],
   "source": [
    "###########  Clustering #############\n",
    "\n",
    "wcss = []\n",
    "for i in range(1, 11):\n",
    "    kmeans = KMeans(n_clusters = i, init = 'k-means++', random_state = 42)\n",
    "    kmeans.fit(X)\n",
    "    wcss.append(kmeans.inertia_)\n",
    "plt.plot(range(1, 11), wcss)\n",
    "plt.title('The Elbow Method')\n",
    "plt.xlabel('Number of clusters')\n",
    "plt.ylabel('WCSS')\n",
    "plt.show()\n",
    "\n"
   ]
  },
  {
   "cell_type": "code",
   "execution_count": null,
   "id": "comprehensive-barcelona",
   "metadata": {},
   "outputs": [],
   "source": [
    "from sklearn.cluster import KMeans"
   ]
  },
  {
   "cell_type": "code",
   "execution_count": null,
   "id": "industrial-jones",
   "metadata": {},
   "outputs": [],
   "source": [
    "kmeans = KMeans(n_clusters = 3, init = 'k-means++', random_state = 42)"
   ]
  },
  {
   "cell_type": "code",
   "execution_count": 7,
   "id": "central-profile",
   "metadata": {},
   "outputs": [],
   "source": [
    "X = new_data.iloc[:, [1, 113]].values"
   ]
  },
  {
   "cell_type": "code",
   "execution_count": 8,
   "id": "thousand-bracelet",
   "metadata": {},
   "outputs": [
    {
     "name": "stderr",
     "output_type": "stream",
     "text": [
      "<ipython-input-8-96a7206edcf0>:4: ConvergenceWarning: Number of distinct clusters (6) found smaller than n_clusters (7). Possibly due to duplicate points in X.\n",
      "  kmeans.fit(X)\n",
      "<ipython-input-8-96a7206edcf0>:4: ConvergenceWarning: Number of distinct clusters (6) found smaller than n_clusters (8). Possibly due to duplicate points in X.\n",
      "  kmeans.fit(X)\n",
      "<ipython-input-8-96a7206edcf0>:4: ConvergenceWarning: Number of distinct clusters (6) found smaller than n_clusters (9). Possibly due to duplicate points in X.\n",
      "  kmeans.fit(X)\n",
      "<ipython-input-8-96a7206edcf0>:4: ConvergenceWarning: Number of distinct clusters (6) found smaller than n_clusters (10). Possibly due to duplicate points in X.\n",
      "  kmeans.fit(X)\n"
     ]
    },
    {
     "data": {
      "image/png": "[encoded data removed]",
      "text/plain": [
       "<Figure size 432x288 with 1 Axes>"
      ]
     },
     "metadata": {},
     "output_type": "display_data"
    }
   ],
   "source": [
    "\n",
    "wcss = []\n",
    "for i in range(1, 11):\n",
    "    kmeans = KMeans(n_clusters = i, init = 'k-means++', random_state = 42)\n",
    "    kmeans.fit(X)\n",
    "    wcss.append(kmeans.inertia_)\n",
    "plt.plot(range(1, 11), wcss)\n",
    "plt.title('The Elbow Method')\n",
    "plt.xlabel('Number of clusters')\n",
    "plt.ylabel('WCSS')\n",
    "plt.show()"
   ]
  },
  {
   "cell_type": "code",
   "execution_count": null,
   "id": "radio-silence",
   "metadata": {},
   "outputs": [],
   "source": [
    "kmeans = KMeans(n_clusters = 3, init = 'k-means++', random_state = 42)\n",
    "y_kmeans = kmeans.fit_predict(X)"
   ]
  },
  {
   "cell_type": "code",
   "execution_count": 1,
   "id": "mysterious-polls",
   "metadata": {},
   "outputs": [],
   "source": [
    "from sklearn.cluster import KMeans"
   ]
  },
  {
   "cell_type": "code",
   "execution_count": 24,
   "id": "unlike-judgment",
   "metadata": {},
   "outputs": [
    {
     "ename": "NameError",
     "evalue": "name 'y_kmeans' is not defined",
     "output_type": "error",
     "traceback": [
      "\u001b[0;31m---------------------------------------------------------------------------\u001b[0m",
      "\u001b[0;31mNameError\u001b[0m                                 Traceback (most recent call last)",
      "\u001b[0;32m<ipython-input-24-70e15b40ace4>\u001b[0m in \u001b[0;36m<module>\u001b[0;34m\u001b[0m\n\u001b[0;32m----> 1\u001b[0;31m \u001b[0my_kmeans\u001b[0m\u001b[0;34m\u001b[0m\u001b[0;34m\u001b[0m\u001b[0m\n\u001b[0m",
      "\u001b[0;31mNameError\u001b[0m: name 'y_kmeans' is not defined"
     ]
    }
   ],
   "source": []
  },
  {
   "cell_type": "code",
   "execution_count": null,
   "id": "chubby-forth",
   "metadata": {},
   "outputs": [],
   "source": []
  }
 ],
 "metadata": {
  "kernelspec": {
   "display_name": "Python 3",
   "language": "python",
   "name": "python3"
  },
  "language_info": {
   "codemirror_mode": {
    "name": "ipython",
    "version": 3
   },
   "file_extension": ".py",
   "mimetype": "text/x-python",
   "name": "python",
   "nbconvert_exporter": "python",
   "pygments_lexer": "ipython3",
   "version": "3.8.5"
  }
 },
 "nbformat": 4,
 "nbformat_minor": 5
}
